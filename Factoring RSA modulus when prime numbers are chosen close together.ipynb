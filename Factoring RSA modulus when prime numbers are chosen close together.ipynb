{
 "cells": [
  {
   "cell_type": "code",
   "execution_count": 1,
   "id": "e43e877e",
   "metadata": {},
   "outputs": [],
   "source": [
    "import gmpy2 as gp\n",
    "import math"
   ]
  },
  {
   "cell_type": "markdown",
   "id": "ee6d8ec5",
   "metadata": {},
   "source": [
    "## Factoring Challenge-1"
   ]
  },
  {
   "cell_type": "code",
   "execution_count": 2,
   "id": "017df2f1",
   "metadata": {},
   "outputs": [
    {
     "name": "stdout",
     "output_type": "stream",
     "text": [
      " The factors of N are: \n",
      "p = 13407807929942597099574024998205846127479365820592393377723561443721764030073778560980348930557750569660049234002192590823085163940025485114449475265364281\n",
      "q = 13407807929942597099574024998205846127479365820592393377723561443721764030073662768891111614362326998675040546094339320838419523375986027530441562135724301\n"
     ]
    }
   ],
   "source": [
    "\"\"\"\n",
    "Suppose you are given a composite N\n",
    "and are told that N is a product of two relatively close primes p and q, namely p and q satisfy and p > q\n",
    "     p - q < 2 N^{1/4} -(1)\n",
    "\n",
    "Define \n",
    "A = (p + q) / 2 -(2)\n",
    "\n",
    "Eqn (1) implies \n",
    "p^2 + q^2 - 2pq < 4*N^{1/2} -(3)\n",
    "=> A^2 - N < N^{1/2} -(4)\n",
    "=> (A + N^{1/2})(A - N^{1/2}) < N^{1/2} - (5)\n",
    "\n",
    "Now N^{1/2} < A\n",
    "=> A - N^{1/2} < 1\n",
    "=> A < N^{1/2} + 1\n",
    "\n",
    "So A = ceil(N^{1/2}) - (6)\n",
    "\n",
    "Now \n",
    "p = A + x - (7) \n",
    "q = A - x - (8)\n",
    "x = sqrt(A^2 - N) - (9)\n",
    "\n",
    "So N can be factored\n",
    "\"\"\"\n",
    "\n",
    "N = 179769313486231590772930519078902473361797697894230657273430081157732675805505620686985379449212982959585501387537164015710139858647833778606925583497541085196591615128057575940752635007475935288710823649949940771895617054361149474865046711015101563940680527540071584560878577663743040086340742855278549092581\n",
    "A = gp.isqrt(N)+1\n",
    "\n",
    "x = gp.isqrt(gp.sub(gp.square(A),N))\n",
    "p = A + x\n",
    "q = A - x\n",
    "print(\" The factors of N are: \")\n",
    "print(\"p = \"+str(p))\n",
    "print(\"q = \"+str(q))"
   ]
  },
  {
   "cell_type": "markdown",
   "id": "cae0b9cd",
   "metadata": {},
   "source": [
    "## Factoring Challenge-2"
   ]
  },
  {
   "cell_type": "code",
   "execution_count": 3,
   "id": "5206f0f5",
   "metadata": {},
   "outputs": [
    {
     "name": "stdout",
     "output_type": "stream",
     "text": [
      " The factors of N are: \n",
      "p = 25464796146996183438008816563973942229341454268524157846328581927885777970106398054491246526970814167632563509541784734741871379856682354747718346471375403\n",
      "q = 25464796146996183438008816563973942229341454268524157846328581927885777969985222835143851073249573454107384461557193173304497244814071505790566593206419759\n"
     ]
    }
   ],
   "source": [
    "\"\"\"\n",
    "Suppose you are given a composite N\n",
    "and are told that N is a product of two relatively close primes p and q, namely p and q satisfy and p > q\n",
    "     p - q < 2^11*N^{1/4} -(10)\n",
    "     => p^2 + q^2 -2pq < 2^22*N^{1/2} - (11)\n",
    "     Now A = (p + q)/2\n",
    "     => A^2 = (p^2 + q^2 + 2pq)/4 -(12)\n",
    "     Substituting eqn(12) in eqn(11) we get\n",
    "     A^2 - N < 2^20*N^{1/2} - (13)\n",
    "     => A - N^{1/2} < 2^20 -(14)\n",
    "     \n",
    "So A can be found with atmost 2^20 attempts from N^{1/2}\n",
    "Now \n",
    "    x = sqrt(A^2 - N)\n",
    "    p = A + x\n",
    "    q = A - x\n",
    "For each A find p and q and check whether it factors N\n",
    "\n",
    "\"\"\"\n",
    "\n",
    "N =648455842808071669662824265346772278726343720706976263060439070378797308618081116462714015276061417569195587321840254520655424906719892428844841839353281972988531310511738648965962582821502504990264452100885281673303711142296421027840289307657458645233683357077834689715838646088239640236866252211790085787877\n",
    "sqrt_N = gp.isqrt(N)\n",
    "factors_found = False\n",
    "for i in range(1,2**20):\n",
    "    A = sqrt_N + i\n",
    "    A_2 = gp.square(A)\n",
    "    x = gp.isqrt(A_2 - N)\n",
    "    p = A + x\n",
    "    q = A - x\n",
    "    if(gp.mul(p,q) == N):\n",
    "        factors_found = True\n",
    "        print(\" The factors of N are: \")\n",
    "        print(\"p = \"+str(p))\n",
    "        print(\"q = \"+str(q))\n",
    "if(factors_found == False):\n",
    "    print(\"Could not factorize...\")"
   ]
  },
  {
   "cell_type": "markdown",
   "id": "7d55b4ce",
   "metadata": {},
   "source": [
    "## Factoring Challenge-3"
   ]
  },
  {
   "cell_type": "code",
   "execution_count": 97,
   "id": "db7f8e08",
   "metadata": {},
   "outputs": [
    {
     "name": "stdout",
     "output_type": "stream",
     "text": [
      " The factors of N are: \n",
      "p = 32864774388713299638410982797375933848473264140017393545149135376190818117189240035825816494954711821626076210364113848440012285863311027426121370050758081.0\n",
      "q = 21909849592475533092273988531583955898982176093344929030099423584127212078126150044721102570957812665127475051465088833555993294644190955293613411658629209.0\n"
     ]
    }
   ],
   "source": [
    "\"\"\"\n",
    "The following modulus N is a product of two primes p and q where |3p - 2q| < N^{1/4} - (15)\n",
    "Hint: first show that sqrt{6N}   is close to (3p+2q)/2 \n",
    "  and then adapt the method in challenge #1 to factor N.\n",
    "  \n",
    "  Consider A = (3p + 2q)/2. Note A is not an integer.\n",
    "  => 2A = 3p + 2q = A' - (16)\n",
    "  From eqn(15) and (16) we have \n",
    "  A' = ceil(2*sqrt(6N))\n",
    "\"\"\"\n",
    "gp.get_context().precision=2048\n",
    "N =720062263747350425279564435525583738338084451473999841826653057981916355690188337790423408664187663938485175264994017897083524079135686877441155132015188279331812309091996246361896836573643119174094961348524639707885238799396839230364676670221627018353299443241192173812729276147530748597302192751375739387929\n",
    "six_N = gp.mul(6,N)\n",
    "A_prime = gp.mul(2,gp.isqrt(six_N)) + 1\n",
    "A = A_prime/2\n",
    "x = gp.sqrt(A**2 - six_N)\n",
    "p = (A + x)/3\n",
    "if p.is_integer() == False:\n",
    "    p = (A + x)/2\n",
    "    q = (A - x)/3\n",
    "else:\n",
    "    q = (A - x)/2\n",
    "print(\" The factors of N are: \")\n",
    "print(\"p = \"+str(p))\n",
    "print(\"q = \"+str(q))"
   ]
  },
  {
   "cell_type": "markdown",
   "id": "d5a3eaee",
   "metadata": {},
   "source": [
    "## Decryption Challenge"
   ]
  },
  {
   "cell_type": "code",
   "execution_count": 110,
   "id": "997c4e07",
   "metadata": {},
   "outputs": [
    {
     "data": {
      "text/plain": [
       "'Factoring lets us break RSA.'"
      ]
     },
     "execution_count": 110,
     "metadata": {},
     "output_type": "execute_result"
    }
   ],
   "source": [
    "\"\"\"\n",
    "The challenge ciphertext provided below is the result of encrypting a short secret ASCII plaintext using the \n",
    "RSA modulus given in the first factorization challenge. \n",
    "\n",
    "The encryption exponent used is e=65537. The ASCII plaintext was encoded using PKCS v1.5 before the RSA function\n",
    "was applied.\n",
    "\n",
    "Use the factorization  obtained for this RSA modulus to decrypt this challenge ciphertext and obtain the resulting \n",
    "English plaintext.Recall that the factorization of N enables you to compute φ(N) from which you can obtain the RSA \n",
    "decryption exponent.\n",
    "\n",
    "\"\"\"\n",
    "# Calculates gcd of a pair of numbers\n",
    "def gcd_euclidean_number_pair(a,b):\n",
    "    if a == 0:\n",
    "        return b;\n",
    "    elif b == 0:\n",
    "        return a;\n",
    "    if a < 0:\n",
    "        a = -a\n",
    "    if b < 0:\n",
    "        b = -b\n",
    "    \n",
    "    if a == b:\n",
    "        return a;\n",
    "    elif a > b:\n",
    "        return gcd_euclidean_number_pair(a%b,b)\n",
    "    elif a < b:\n",
    "        return gcd_euclidean_number_pair (a,b%a)\n",
    "    \n",
    "# Calculates gcd of an array of numbers\n",
    "def gcd_euclidean(inp):\n",
    "    # take gcd of a pair and repeat the process\n",
    "    gcd_num_pair = inp[0]\n",
    "    for i in range(0,len(inp)-1):\n",
    "        a = gcd_num_pair\n",
    "        b = inp[i + 1]\n",
    "        gcd_num_pair = gcd_euclidean_number_pair(a,b)\n",
    "    gcd = gcd_num_pair\n",
    "    return gcd\n",
    "\"\"\"Compute the coefficients of Bezout's identity. a and b are 2 co-prime numbers. \"\"\"\n",
    "def extended_euclidean(a,b):\n",
    "    \n",
    "    if (gcd_euclidean([a,b]) != 1):\n",
    "        raise ValueError(\"GCD of numbers not equal to 1. No integer solutions are possible\")\n",
    "    a_org = a\n",
    "    b_org = b\n",
    "    a_prev = a\n",
    "    b_prev = b\n",
    "    coeffs = [(a,b)]\n",
    "    while (b!=0):\n",
    "        a = b_prev\n",
    "        b = a_prev%b_prev\n",
    "        coeffs.append((a,b))\n",
    "        a_prev = a\n",
    "        b_prev = b  \n",
    "    x = 1\n",
    "    y = 0\n",
    "    for i in range(0,len(coeffs)):\n",
    "        a_prev = coeffs[len(coeffs) - i - 1][0]\n",
    "        b_prev = coeffs[len(coeffs) - i - 1][1]\n",
    "        if b_prev == 0:\n",
    "            continue\n",
    "        x_prev = y\n",
    "        y_prev = x - (a_prev//b_prev)*y\n",
    "        x = x_prev\n",
    "        y = y_prev \n",
    "    # mod operation in python gives result with matching sign of denominator.\n",
    "    if (a_org*x + b_org*y == -1):\n",
    "        x = -x\n",
    "        y = -y\n",
    "    return x,y\n",
    "\n",
    "gp.get_context().precision=2048\n",
    "N = 179769313486231590772930519078902473361797697894230657273430081157732675805505620686985379449212982959585501387537164015710139858647833778606925583497541085196591615128057575940752635007475935288710823649949940771895617054361149474865046711015101563940680527540071584560878577663743040086340742855278549092581\n",
    "ct = 22096451867410381776306561134883418017410069787892831071731839143676135600120538004282329650473509424343946219751512256465839967942889460764542040581564748988013734864120452325229320176487916666402997509188729971690526083222067771600019329260870009579993724077458967773697817571267229951148662959627934791540\n",
    "p = 13407807929942597099574024998205846127479365820592393377723561443721764030073778560980348930557750569660049234002192590823085163940025485114449475265364281\n",
    "q = 13407807929942597099574024998205846127479365820592393377723561443721764030073662768891111614362326998675040546094339320838419523375986027530441562135724301\n",
    "e = 65537\n",
    "phi_N = (p-1)*(q-1)\n",
    "d = extended_euclidean(e,-phi_N)[0]\n",
    "pt = gp.powmod(ct,d,N)\n",
    "pt = hex(pt)\n",
    "pt = pt[pt.index('00')+2:]\n",
    "bytes_object = bytes. fromhex(pt)\n",
    "ascii_string = bytes_object. decode(\"ASCII\")\n",
    "ascii_string"
   ]
  }
 ],
 "metadata": {
  "kernelspec": {
   "display_name": "Python 3",
   "language": "python",
   "name": "python3"
  },
  "language_info": {
   "codemirror_mode": {
    "name": "ipython",
    "version": 3
   },
   "file_extension": ".py",
   "mimetype": "text/x-python",
   "name": "python",
   "nbconvert_exporter": "python",
   "pygments_lexer": "ipython3",
   "version": "3.8.8"
  }
 },
 "nbformat": 4,
 "nbformat_minor": 5
}
