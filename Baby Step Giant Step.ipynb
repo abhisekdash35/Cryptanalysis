{
 "cells": [
  {
   "cell_type": "code",
   "execution_count": 1,
   "id": "7b9ba7fd",
   "metadata": {},
   "outputs": [
    {
     "data": {
      "text/plain": [
       "' \\n\\nSolves the discrete logarithm problem \\ng^x = y (mod p) - (1) \\ni.e. finds the value of x that satisfies the congruence. p is a prime number.\\n\\nSuppose x = mq + r where m is floor(sqrt(p)) integer between 0 and p.\\n=> 0 <= r < m\\n=> g^(mq + r) = y(mod N) - (2)\\n=> g^mq . g^r = y(mod N) - (3)\\n=> g^mq = y / g^r (mod N) -(4)\\n\\nChoose a particular m.\\nCalculate RHS of eqn (4)  from r=0 to r=m-1 since r can only take values from 0 to m-1.\\nEvaluate the LHS of eqn (4) for integer values of q. If the congruence in eqn(1) holds then the congruence in eqn(4) will \\nalso hold for some value(s) of r and q.\\nHence x = r + mq\\n\\n\\nNow coming to the reason as to why m is chosen as floor(sqrt(p)) is that the LHS of eqn(4) takes \\nm operations evaluating g^r for m values. g^mq has to be evaluated for values of q until mq < p.  This implies q < p/m\\n\\nSo the total number of operations is m + p/m. This function is minimized if m = sqrt(p)\\n'"
      ]
     },
     "execution_count": 1,
     "metadata": {},
     "output_type": "execute_result"
    }
   ],
   "source": [
    "\"\"\" \n",
    "\n",
    "Solves the discrete logarithm problem \n",
    "g^x = y (mod p) - (1) \n",
    "i.e. finds the value of x that satisfies the congruence. p is a prime number.\n",
    "\n",
    "Suppose x = mq + r where m is floor(sqrt(p)) integer between 0 and p.\n",
    "=> 0 <= r < m\n",
    "=> g^(mq + r) = y(mod N) - (2)\n",
    "=> g^mq . g^r = y(mod N) - (3)\n",
    "=> g^mq = y / g^r (mod N) -(4)\n",
    "\n",
    "Choose a particular m.\n",
    "Calculate RHS of eqn (4)  from r=0 to r=m-1 since r can only take values from 0 to m-1.\n",
    "Evaluate the LHS of eqn (4) for integer values of q. If the congruence in eqn(1) holds then the congruence in eqn(4) will \n",
    "also hold for some value(s) of r and q.\n",
    "Hence x = r + mq\n",
    "\n",
    "\n",
    "Now coming to the reason as to why m is chosen as floor(sqrt(p)) is that the LHS of eqn(4) takes \n",
    "m operations evaluating g^r for m values. g^mq has to be evaluated for values of q until mq < p.  This implies q < p/m\n",
    "\n",
    "So the total number of operations is m + p/m. This function is minimized if m = sqrt(p)\n",
    "\"\"\""
   ]
  },
  {
   "cell_type": "code",
   "execution_count": 2,
   "id": "918b5204",
   "metadata": {},
   "outputs": [],
   "source": [
    "import math\n",
    "import gmpy2 as gp\n",
    "import sys\n",
    "import timeit"
   ]
  },
  {
   "cell_type": "code",
   "execution_count": 3,
   "id": "d2d2f4b9",
   "metadata": {},
   "outputs": [],
   "source": [
    "# Helper functions\n",
    "\n",
    "def evaluate_y_by_g_pow_r(y,g,p,m):\n",
    "    hash_table = {}\n",
    "    g_inv = gp.invert(g,p)\n",
    "    for r in range(0,m):\n",
    "        g_inv_r = gp.powmod(g_inv,r,p)\n",
    "        lhs = gp.mod(gp.mul(y,g_inv_r),p)\n",
    "        \n",
    "        hash_table[lhs] = r\n",
    "    return hash_table\n",
    "def compare_with_hashtable(hash_table,g,m,p):\n",
    "    g_pow_m = gp.powmod(g,m,p)\n",
    "    for q in range(0,m):\n",
    "        rhs = gp.powmod(g_pow_m,q,p)\n",
    "        if rhs in hash_table:\n",
    "            return q,hash_table[rhs]\n",
    "    return None,None"
   ]
  },
  {
   "cell_type": "code",
   "execution_count": 4,
   "id": "eb42ce13",
   "metadata": {},
   "outputs": [],
   "source": [
    "def baby_step_giant_step(g,y,p,x_rng):\n",
    "    if(p<=0):\n",
    "        raise ValueError(\"p should be a positive integer\")\n",
    "    if g <= 0:\n",
    "        raise ValueError(\"g should be a positive integer\")\n",
    "    if y <= 0:\n",
    "        raise ValueError(\"y should be a positive integer\")\n",
    "    if x_rng<=0:\n",
    "        raise ValueError(\"x_rng should be a positive integer\")\n",
    "    if gp.gcd(g,p)!=1:\n",
    "        raise ValueError(\"Discrete Log does not exist.\")\n",
    "        \n",
    "    g = g % p\n",
    "    y = y % p\n",
    "    m = int(math.sqrt(x_rng))\n",
    "    # Evaluate y/g^r for r varying from 0 to m-1\n",
    "    print(\"Building Hash Table...\")\n",
    "    hash_table = evaluate_y_by_g_pow_r(y,g,p,m)\n",
    "    print(\"Comparing with Hash Table...\")\n",
    "    q,r = compare_with_hashtable(hash_table,g,m,p)\n",
    "    if q==None:\n",
    "        return None\n",
    "    else:\n",
    "        x = m*q+r\n",
    "        return x    "
   ]
  },
  {
   "cell_type": "code",
   "execution_count": 5,
   "id": "2956a8ea",
   "metadata": {},
   "outputs": [
    {
     "name": "stdout",
     "output_type": "stream",
     "text": [
      "Building Hash Table...\n",
      "Comparing with Hash Table...\n",
      "Time taken: 14.741785764694214\n",
      "375374217830\n"
     ]
    }
   ],
   "source": [
    "import time\n",
    "start = time.time()\n",
    "x = baby_step_giant_step(g=11717829880366207009516117596335367088558084999998952205599979459063929499736583746670572176471460312928594829675428279466566527115212748467589894601965568\n",
    "                             ,y=3239475104050450443565264378728065788649097520952449527834792452971981976143292558073856937958553180532878928001494706097394108577585732452307673444020333\n",
    "                             ,p=13407807929942597099574024998205846127479365820592393377723561443721764030073546976801874298166903427690031858186486050853753882811946569946433649006084171\n",
    "                             ,x_rng = 2**40)\n",
    "end = time.time()\n",
    "print(\"Time taken: \"+str(end-start))\n",
    "print(x)"
   ]
  },
  {
   "cell_type": "code",
   "execution_count": null,
   "id": "b371d810",
   "metadata": {},
   "outputs": [],
   "source": []
  }
 ],
 "metadata": {
  "kernelspec": {
   "display_name": "Python 3",
   "language": "python",
   "name": "python3"
  },
  "language_info": {
   "codemirror_mode": {
    "name": "ipython",
    "version": 3
   },
   "file_extension": ".py",
   "mimetype": "text/x-python",
   "name": "python",
   "nbconvert_exporter": "python",
   "pygments_lexer": "ipython3",
   "version": "3.8.8"
  }
 },
 "nbformat": 4,
 "nbformat_minor": 5
}
