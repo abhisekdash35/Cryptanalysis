{
 "cells": [
  {
   "cell_type": "code",
   "execution_count": 1,
   "id": "275d828c",
   "metadata": {},
   "outputs": [],
   "source": [
    "import os\n",
    "import sys\n",
    "from Crypto.Hash import SHA256"
   ]
  },
  {
   "cell_type": "code",
   "execution_count": 2,
   "id": "8bc2021d",
   "metadata": {},
   "outputs": [],
   "source": [
    "file_name = \"data/demo_file_for_blockwise_SHA-256\"\n",
    "size_of_file = os.path.getsize(file_name)\n",
    "no_of_bytes_to_read_at_a_time=1024\n",
    "# Find if file size is divisible by block size\n",
    "remainder = size_of_file % no_of_bytes_to_read_at_a_time"
   ]
  },
  {
   "cell_type": "code",
   "execution_count": 3,
   "id": "a42e991d",
   "metadata": {},
   "outputs": [],
   "source": [
    "def perform_SHA256(data):\n",
    "    h = SHA256.new()\n",
    "    h.update(data)\n",
    "    return h.digest()"
   ]
  },
  {
   "cell_type": "code",
   "execution_count": 4,
   "id": "cb7dc721",
   "metadata": {},
   "outputs": [
    {
     "name": "stdout",
     "output_type": "stream",
     "text": [
      "5b96aece304a1422224f9a41b228416028f9ba26b0d1058f400200f06a589949\n"
     ]
    }
   ],
   "source": [
    "\n",
    "with open(file_name, \"rb\") as f:\n",
    "    current_loc = 2\n",
    "    last_block_read = False\n",
    "    f.seek(0,current_loc)\n",
    "    data = b''\n",
    "    hash_ = b''\n",
    "    while(f.tell()!=0):\n",
    "        if remainder == 0:\n",
    "            f.seek(-no_of_bytes_to_read_at_a_time,current_loc)\n",
    "            data = f.read(no_of_bytes_to_read_at_a_time)\n",
    "            f.seek(-no_of_bytes_to_read_at_a_time,1)\n",
    "        else:\n",
    "            if last_block_read == False:\n",
    "                f.seek(-remainder,2)\n",
    "                data = f.read(remainder)\n",
    "                f.seek(-remainder,1)\n",
    "                last_block_read = True\n",
    "            else:\n",
    "                f.seek(-no_of_bytes_to_read_at_a_time,1)\n",
    "                data = f.read(no_of_bytes_to_read_at_a_time)\n",
    "                f.seek(-no_of_bytes_to_read_at_a_time,1)\n",
    "        # Perform SHA\n",
    "        data = data + hash_\n",
    "        hash_ = perform_SHA256(data)\n",
    "        current_loc = 1\n",
    "    print(hash_.hex())"
   ]
  },
  {
   "cell_type": "code",
   "execution_count": null,
   "id": "2d96d041",
   "metadata": {},
   "outputs": [],
   "source": []
  }
 ],
 "metadata": {
  "kernelspec": {
   "display_name": "Python 3",
   "language": "python",
   "name": "python3"
  },
  "language_info": {
   "codemirror_mode": {
    "name": "ipython",
    "version": 3
   },
   "file_extension": ".py",
   "mimetype": "text/x-python",
   "name": "python",
   "nbconvert_exporter": "python",
   "pygments_lexer": "ipython3",
   "version": "3.8.8"
  }
 },
 "nbformat": 4,
 "nbformat_minor": 5
}
