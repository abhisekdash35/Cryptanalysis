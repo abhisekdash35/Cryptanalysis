{
 "cells": [
  {
   "cell_type": "code",
   "execution_count": 1,
   "id": "1e14be2f",
   "metadata": {},
   "outputs": [],
   "source": [
    "from Crypto.Cipher import AES"
   ]
  },
  {
   "cell_type": "markdown",
   "id": "9ce34b65",
   "metadata": {},
   "source": [
    "CBC Mode Decryption Demonstration"
   ]
  },
  {
   "cell_type": "code",
   "execution_count": 2,
   "id": "bf569343",
   "metadata": {},
   "outputs": [],
   "source": [
    "# Key and ciphertext are hex encoded\n",
    "\n",
    "cbc_key = \"140b41b22a29beb4061bda66b6747e14\"\n",
    "cbc_key = bytes.fromhex(cbc_key)\n",
    "cbc_ciphertext = \"4ca00ff4c898d61e1edbf1800618fb2828a226d160dad07883d04e008a7897ee2e4b7465d5290d0c0e6c6822236e1daafb94ffe0c5da05d9476be028ad7c1d81\"\n",
    "iv = cbc_ciphertext[0:32]\n",
    "cbc_ciphertext = cbc_ciphertext[32:]\n",
    "iv = bytes.fromhex(iv)\n",
    "cbc_ciphertext = bytes.fromhex(cbc_ciphertext)"
   ]
  },
  {
   "cell_type": "code",
   "execution_count": 3,
   "id": "d16d61fe",
   "metadata": {},
   "outputs": [
    {
     "name": "stdout",
     "output_type": "stream",
     "text": [
      "b'Basic CBC mode encryption needs padding.\\x08\\x08\\x08\\x08\\x08\\x08\\x08\\x08'\n"
     ]
    }
   ],
   "source": [
    "cipher_cbc = AES.new(cbc_key, AES.MODE_CBC,iv=iv)\n",
    "pt = cipher_cbc.decrypt(cbc_ciphertext)\n",
    "print(pt)"
   ]
  },
  {
   "cell_type": "markdown",
   "id": "5184882c",
   "metadata": {},
   "source": [
    "Counter Mode Decryption Demonstration"
   ]
  },
  {
   "cell_type": "code",
   "execution_count": 4,
   "id": "a2f27b76",
   "metadata": {},
   "outputs": [],
   "source": [
    "ctr_key = \"36f18357be4dbd77f050515c73fcf9f2\"\n",
    "ctr_key = bytes.fromhex(ctr_key)\n",
    "ctr_ciphertext = \"69dda8455c7dd4254bf353b773304eec0ec7702330098ce7f7520d1cbbb20fc388d1b0adb5054dbd7370849dbf0b88d393f252e764f1f5f7ad97ef79d59ce29f5f51eeca32eabedd9afa9329\"\n",
    "\n",
    "# Nonce is 64 bits\n",
    "nonce = ctr_ciphertext[0:16]\n",
    "nonce = bytes.fromhex(nonce)\n",
    "\n",
    "# Initial value is 64 bits\n",
    "initial_value = ctr_ciphertext[16:32]\n",
    "initial_value = bytes.fromhex(initial_value)\n",
    "\n",
    "ctr_ciphertext = ctr_ciphertext[32:]\n",
    "ctr_ciphertext = bytes.fromhex(ctr_ciphertext)"
   ]
  },
  {
   "cell_type": "code",
   "execution_count": 5,
   "id": "077519d2",
   "metadata": {},
   "outputs": [
    {
     "name": "stdout",
     "output_type": "stream",
     "text": [
      "b'CTR mode lets you build a stream cipher from a block cipher.'\n"
     ]
    }
   ],
   "source": [
    "cipher_ctr = AES.new(ctr_key, AES.MODE_CTR,initial_value = initial_value,nonce = nonce)\n",
    "pt = cipher_ctr.decrypt(ctr_ciphertext)\n",
    "print(pt)"
   ]
  },
  {
   "cell_type": "code",
   "execution_count": null,
   "id": "08083ace",
   "metadata": {},
   "outputs": [],
   "source": []
  }
 ],
 "metadata": {
  "kernelspec": {
   "display_name": "Python 3",
   "language": "python",
   "name": "python3"
  },
  "language_info": {
   "codemirror_mode": {
    "name": "ipython",
    "version": 3
   },
   "file_extension": ".py",
   "mimetype": "text/x-python",
   "name": "python",
   "nbconvert_exporter": "python",
   "pygments_lexer": "ipython3",
   "version": "3.8.8"
  }
 },
 "nbformat": 4,
 "nbformat_minor": 5
}
