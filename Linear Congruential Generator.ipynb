{
 "cells": [
  {
   "cell_type": "code",
   "execution_count": 29,
   "metadata": {},
   "outputs": [],
   "source": [
    "import numpy as np\n",
    "import sys"
   ]
  },
  {
   "cell_type": "code",
   "execution_count": 38,
   "metadata": {},
   "outputs": [],
   "source": [
    "def lcg(a,b,y0,m,length):\n",
    "    if m <= 0:\n",
    "        raise ValueError(\"m must be a positive integer.\")\n",
    "    if ((a>=0 and a<m and (b>=0 and b<m) and (y0>=0 and y0<m))):\n",
    "        y_current = y0\n",
    "        result = []\n",
    "        for i in range(0,length):\n",
    "            y_next = (a*y_current + b)%m\n",
    "            result.append(y_next)\n",
    "            y_current = y_next\n",
    "    else:\n",
    "        raise ValueError(\"a, b, y0 must be integers between [0,m)\")\n",
    "    return result"
   ]
  },
  {
   "cell_type": "code",
   "execution_count": 54,
   "metadata": {},
   "outputs": [
    {
     "name": "stdout",
     "output_type": "stream",
     "text": [
      "[8, 32, 128, 8, 32, 128, 8, 32, 128, 8]\n"
     ]
    }
   ],
   "source": [
    "pseudo_random_sequence = lcg(a=4,b=0,y0=2,m=252,length=10)\n",
    "print(pseudo_random_sequence)"
   ]
  },
  {
   "cell_type": "code",
   "execution_count": 55,
   "metadata": {},
   "outputs": [],
   "source": [
    "# Calculates gcd of a pair of numbers\n",
    "def gcd_euclidean_number_pair(a,b):\n",
    "    if a == 0:\n",
    "        return b;\n",
    "    elif b == 0:\n",
    "        return a;\n",
    "    if a < 0:\n",
    "        a = -a\n",
    "    if b < 0:\n",
    "        b = -b\n",
    "    \n",
    "    if a == b:\n",
    "        return a;\n",
    "    elif a > b:\n",
    "        return gcd_euclidean_number_pair(a%b,b)\n",
    "    elif a < b:\n",
    "        return gcd_euclidean_number_pair (a,b%a)\n",
    "\n",
    "# Calculates gcd of an array of numbers\n",
    "def gcd_euclidean(inp):\n",
    "    # take gcd of a pair and repeat the process\n",
    "    gcd_num_pair = inp[0]\n",
    "    for i in range(0,len(inp)-1):\n",
    "        a = gcd_num_pair\n",
    "        b = inp[i + 1]\n",
    "        gcd_num_pair = gcd_euclidean_number_pair(a,b)\n",
    "    gcd = gcd_num_pair\n",
    "    return gcd\n",
    "\n",
    "\"\"\"Implementation of the Extended Euclidean Algorithm to solve \n",
    "the Diophantine equation ax + by = 1 for integer values of x and y\"\"\"\n",
    "\n",
    "\"\"\"\n",
    "gcd(a,b) = gcd(b,a%b). Using this result the equation ax + by = gcd(a,b) can be modified into\n",
    "b*x1 + (a%b)*y1 = gcd(a,b). Then a%b can be written as a - (a//b)*b. Substituting this into \n",
    "the second equation a recursive relation between (x1,x) and (y1,y) can be obtained. \n",
    "\n",
    "It is known that the last step of euclidean algorithm gives xn = 1 and yn = 0. \n",
    "\n",
    "xn-1 = y1\n",
    "yn-1 = xn - (an-1//bn-1)*yn\n",
    "\"\"\"\n",
    "def extended_euclidean(a,b):\n",
    "    \n",
    "    if (gcd_euclidean([a,b]) != 1):\n",
    "        raise ValueError(\"GCD of numbers not equal to 1. No integer solutions are possible\")\n",
    "    a_org = a\n",
    "    b_org = b\n",
    "    a_prev = a\n",
    "    b_prev = b\n",
    "    coeffs = [(a,b)]\n",
    "    while (b!=0):\n",
    "        a = b_prev\n",
    "        b = a_prev%b_prev\n",
    "        coeffs.append((a,b))\n",
    "        a_prev = a\n",
    "        b_prev = b  \n",
    "    x = 1\n",
    "    y = 0\n",
    "    for i in range(0,len(coeffs)):\n",
    "        a_prev = coeffs[len(coeffs) - i - 1][0]\n",
    "        b_prev = coeffs[len(coeffs) - i - 1][1]\n",
    "        if b_prev == 0:\n",
    "            continue\n",
    "        x_prev = y\n",
    "        y_prev = x - (a_prev//b_prev)*y\n",
    "        x = x_prev\n",
    "        y = y_prev \n",
    "    # mod operation in python gives result with matching sign of denominator.\n",
    "    if (a_org*x + b_org*y == -1):\n",
    "        x = -x\n",
    "        y = -y\n",
    "    return x,y"
   ]
  },
  {
   "cell_type": "code",
   "execution_count": 58,
   "metadata": {},
   "outputs": [],
   "source": [
    "\n",
    "def break_lcg(pseudo_random_sequence):\n",
    "    sub_results = []\n",
    "    for i in range(0,len(pseudo_random_sequence)-3):\n",
    "        yn = pseudo_random_sequence[i]\n",
    "        yn_1 = pseudo_random_sequence[i+1]\n",
    "        yn_2 = pseudo_random_sequence[i+2]\n",
    "        yn_3 = pseudo_random_sequence[i+3]\n",
    "        \"\"\"\n",
    "        y2 - y3 = a(y1 - y2)(mod m) -(1)\n",
    "        y3 - y4 = a(y2 - y3)(mod m) -(2)\n",
    "        \n",
    "        To eliminate 'a' multiply (1) with (y2 - y3) and (2) with (y1 - y2) and \n",
    "        subtract the equations\n",
    "        \n",
    "        \"\"\"\n",
    "        res = (yn_1 - yn_2)**2 - (yn_2 - yn_3)*(yn - yn_1)\n",
    "        sub_results.append(res)\n",
    "    \n",
    "    m = gcd_euclidean(sub_results)\n",
    "    y1 = pseudo_random_sequence[0]\n",
    "    y2 = pseudo_random_sequence[1]\n",
    "    y3 = pseudo_random_sequence[2]\n",
    "    print(m)\n",
    "    print(y1)\n",
    "    print(y2)\n",
    "    print(y3)\n",
    "    \"\"\"\n",
    "    After finding m ,use eqn(1) to find a.\n",
    "    \n",
    "    \"\"\"\n",
    "    x,y = extended_euclidean(y1-y2,-m)\n",
    "    a = ((y2 - y3)*x)%m\n",
    "    \n",
    "    \"\"\" After finding a and m, b can be found by y2 = a*y1 + b (mod m) \"\"\"\n",
    "    r = a*y1 - y2\n",
    "    x,y = extended_euclidean(m,-1)\n",
    "    b = (y*r)%m\n",
    "    y1_b = y1 - b\n",
    "    y0,x = extended_euclidean(a,-m)\n",
    "    \n",
    "    y0 = (y0 * y1_b)%m\n",
    "    \n",
    "    return a,b,m,y0"
   ]
  },
  {
   "cell_type": "code",
   "execution_count": 59,
   "metadata": {},
   "outputs": [
    {
     "name": "stdout",
     "output_type": "stream",
     "text": [
      "12096\n",
      "8\n",
      "32\n",
      "128\n"
     ]
    },
    {
     "ename": "ValueError",
     "evalue": "GCD of numbers not equal to 1. No integer solutions are possible",
     "output_type": "error",
     "traceback": [
      "\u001b[1;31m---------------------------------------------------------------------------\u001b[0m",
      "\u001b[1;31mValueError\u001b[0m                                Traceback (most recent call last)",
      "\u001b[1;32m<ipython-input-59-e0cd1ae97433>\u001b[0m in \u001b[0;36m<module>\u001b[1;34m\u001b[0m\n\u001b[1;32m----> 1\u001b[1;33m \u001b[0mbreak_lcg\u001b[0m\u001b[1;33m(\u001b[0m\u001b[0mpseudo_random_sequence\u001b[0m\u001b[1;33m)\u001b[0m\u001b[1;33m\u001b[0m\u001b[1;33m\u001b[0m\u001b[0m\n\u001b[0m",
      "\u001b[1;32m<ipython-input-58-73b5343f399b>\u001b[0m in \u001b[0;36mbreak_lcg\u001b[1;34m(pseudo_random_sequence)\u001b[0m\n\u001b[0;32m     29\u001b[0m \u001b[1;33m\u001b[0m\u001b[0m\n\u001b[0;32m     30\u001b[0m     \"\"\"\n\u001b[1;32m---> 31\u001b[1;33m     \u001b[0mx\u001b[0m\u001b[1;33m,\u001b[0m\u001b[0my\u001b[0m \u001b[1;33m=\u001b[0m \u001b[0mextended_euclidean\u001b[0m\u001b[1;33m(\u001b[0m\u001b[0my1\u001b[0m\u001b[1;33m-\u001b[0m\u001b[0my2\u001b[0m\u001b[1;33m,\u001b[0m\u001b[1;33m-\u001b[0m\u001b[0mm\u001b[0m\u001b[1;33m)\u001b[0m\u001b[1;33m\u001b[0m\u001b[1;33m\u001b[0m\u001b[0m\n\u001b[0m\u001b[0;32m     32\u001b[0m     \u001b[0ma\u001b[0m \u001b[1;33m=\u001b[0m \u001b[1;33m(\u001b[0m\u001b[1;33m(\u001b[0m\u001b[0my2\u001b[0m \u001b[1;33m-\u001b[0m \u001b[0my3\u001b[0m\u001b[1;33m)\u001b[0m\u001b[1;33m*\u001b[0m\u001b[0mx\u001b[0m\u001b[1;33m)\u001b[0m\u001b[1;33m%\u001b[0m\u001b[0mm\u001b[0m\u001b[1;33m\u001b[0m\u001b[1;33m\u001b[0m\u001b[0m\n\u001b[0;32m     33\u001b[0m \u001b[1;33m\u001b[0m\u001b[0m\n",
      "\u001b[1;32m<ipython-input-55-914b1eef5e51>\u001b[0m in \u001b[0;36mextended_euclidean\u001b[1;34m(a, b)\u001b[0m\n\u001b[0;32m     44\u001b[0m \u001b[1;33m\u001b[0m\u001b[0m\n\u001b[0;32m     45\u001b[0m     \u001b[1;32mif\u001b[0m \u001b[1;33m(\u001b[0m\u001b[0mgcd_euclidean\u001b[0m\u001b[1;33m(\u001b[0m\u001b[1;33m[\u001b[0m\u001b[0ma\u001b[0m\u001b[1;33m,\u001b[0m\u001b[0mb\u001b[0m\u001b[1;33m]\u001b[0m\u001b[1;33m)\u001b[0m \u001b[1;33m!=\u001b[0m \u001b[1;36m1\u001b[0m\u001b[1;33m)\u001b[0m\u001b[1;33m:\u001b[0m\u001b[1;33m\u001b[0m\u001b[1;33m\u001b[0m\u001b[0m\n\u001b[1;32m---> 46\u001b[1;33m         \u001b[1;32mraise\u001b[0m \u001b[0mValueError\u001b[0m\u001b[1;33m(\u001b[0m\u001b[1;34m\"GCD of numbers not equal to 1. No integer solutions are possible\"\u001b[0m\u001b[1;33m)\u001b[0m\u001b[1;33m\u001b[0m\u001b[1;33m\u001b[0m\u001b[0m\n\u001b[0m\u001b[0;32m     47\u001b[0m     \u001b[0ma_org\u001b[0m \u001b[1;33m=\u001b[0m \u001b[0ma\u001b[0m\u001b[1;33m\u001b[0m\u001b[1;33m\u001b[0m\u001b[0m\n\u001b[0;32m     48\u001b[0m     \u001b[0mb_org\u001b[0m \u001b[1;33m=\u001b[0m \u001b[0mb\u001b[0m\u001b[1;33m\u001b[0m\u001b[1;33m\u001b[0m\u001b[0m\n",
      "\u001b[1;31mValueError\u001b[0m: GCD of numbers not equal to 1. No integer solutions are possible"
     ]
    }
   ],
   "source": [
    "break_lcg(pseudo_random_sequence)"
   ]
  },
  {
   "cell_type": "code",
   "execution_count": null,
   "metadata": {},
   "outputs": [],
   "source": []
  }
 ],
 "metadata": {
  "kernelspec": {
   "display_name": "Python 3",
   "language": "python",
   "name": "python3"
  },
  "language_info": {
   "codemirror_mode": {
    "name": "ipython",
    "version": 3
   },
   "file_extension": ".py",
   "mimetype": "text/x-python",
   "name": "python",
   "nbconvert_exporter": "python",
   "pygments_lexer": "ipython3",
   "version": "3.8.3"
  }
 },
 "nbformat": 4,
 "nbformat_minor": 4
}
